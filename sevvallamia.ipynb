{
  "nbformat": 4,
  "nbformat_minor": 0,
  "metadata": {
    "colab": {
      "provenance": [],
      "authorship_tag": "ABX9TyOoQPr7dwts/86ThRrhI+A9",
      "include_colab_link": true
    },
    "kernelspec": {
      "name": "python3",
      "display_name": "Python 3"
    },
    "language_info": {
      "name": "python"
    }
  },
  "cells": [
    {
      "cell_type": "markdown",
      "metadata": {
        "id": "view-in-github",
        "colab_type": "text"
      },
      "source": [
        "<a href=\"https://colab.research.google.com/github/sevallamia/XML/blob/main/sevvallamia.ipynb\" target=\"_parent\"><img src=\"https://colab.research.google.com/assets/colab-badge.svg\" alt=\"Open In Colab\"/></a>"
      ]
    },
    {
      "cell_type": "code",
      "execution_count": 33,
      "metadata": {
        "colab": {
          "base_uri": "https://localhost:8080/",
          "height": 106
        },
        "collapsed": true,
        "id": "0GMFaFT9aoHW",
        "outputId": "f91bc672-9011-4c2e-e449-1cd4870c4284"
      },
      "outputs": [
        {
          "output_type": "error",
          "ename": "IndentationError",
          "evalue": "unindent does not match any outer indentation level (<tokenize>, line 15)",
          "traceback": [
            "\u001b[0;36m  File \u001b[0;32m\"<tokenize>\"\u001b[0;36m, line \u001b[0;32m15\u001b[0m\n\u001b[0;31m    import xml.etree.ElementTree as ET\u001b[0m\n\u001b[0m    ^\u001b[0m\n\u001b[0;31mIndentationError\u001b[0m\u001b[0;31m:\u001b[0m unindent does not match any outer indentation level\n"
          ]
        }
      ],
      "source": [
        "<?xml version=\"1.0\"?>\n",
        "<aekler>\n",
        "    <ders adı= \"Açık Matematik\">\n",
        "       <aciklama>Matematik öğrenmek için açık kaynak</aciklama>\n",
        "       <url>https://acikmatematik.org</url>\n",
        "       <lisans>Creative Commons</lisans>\n",
        "    </aek>\n",
        "    <aek>\n",
        "       <ders adı= \"Açık Fizik\">\n",
        "       <aciklama>Fizik öğrenmek için açık kaynak</aciklama>\n",
        "       <url>https://acikfizik.org</url>\n",
        "       <lisans>GNU GPL</lisans>\n",
        "    </aek>\n",
        "    </aekler>\n",
        "  import xml.etree.ElementTree as ET\n",
        "\n",
        "# XML dosyasını ayrıştır\n",
        "tree = ET.parse('aek_ustveriler.xml')\n",
        "root = tree.getroot()\n",
        "\n",
        "# AEK'leri listele\n",
        "for aek in root.findall('aek'):\n",
        "  baslik = aek.find('baslik').text\n",
        "  aciklama = aek.find('aciklama').text\n",
        "  url = aek.find('url').text\n",
        "  lisans = aek.find('lisans').text\n",
        "  print(f\"Başlık: {baslik}\\nAçıklama: {aciklama}\\nURL: {url}\\nLisans: {lisans}\\n\")\n",
        "\n",
        "for aek in root.findall('aek[lisans=\"Creative Commons\"]'):\n",
        "  # ... (AEK bilgilerini yazdır)\n",
        "\n",
        "\n",
        "\n",
        ""
      ]
    },
    {
      "cell_type": "code",
      "source": [
        "<AEK>\n",
        " <resource>\n",
        "   <title>Başlık</title>\n",
        "   <subject<Anahtar Kelimeler</subject>\n",
        "   <description>Özet bilgi</description>\n",
        "   <creator>Oluşturan</creator>\n",
        "   <license>Açık Lisans</license>\n",
        "   <language>Dil</language>\n",
        "   <identifier>Kaynağın URLsi</identifier>\n",
        " </resource>\n",
        "</AEK>\n",
        "\n",
        "import xml.etree.ElementTree as ET\n",
        "\n",
        "def create_xml(data):\n",
        "  aek = ET.Element(\"AEK\")\n",
        "  resource = ET.SubElement(aek,\"resource\")\n",
        "\n",
        "  for key, value in data.items():\n",
        "    child = ET.SubElement(resource,key)\n",
        "    child.text = value\n",
        "\n",
        "  tree = ET.ElementTree(aek)\n",
        "  tree.write(\"aek_data.xml\")\n",
        "\n",
        "\n",
        "\n",
        "\n",
        "\n"
      ],
      "metadata": {
        "colab": {
          "base_uri": "https://localhost:8080/",
          "height": 106
        },
        "id": "9p-LKnh3gDdL",
        "outputId": "85924f32-a631-46dc-b5de-f920214ba110"
      },
      "execution_count": 31,
      "outputs": [
        {
          "output_type": "error",
          "ename": "IndentationError",
          "evalue": "unindent does not match any outer indentation level (<tokenize>, line 29)",
          "traceback": [
            "\u001b[0;36m  File \u001b[0;32m\"<tokenize>\"\u001b[0;36m, line \u001b[0;32m29\u001b[0m\n\u001b[0;31m    import xml.etree.ElementTree as ET\u001b[0m\n\u001b[0m    ^\u001b[0m\n\u001b[0;31mIndentationError\u001b[0m\u001b[0;31m:\u001b[0m unindent does not match any outer indentation level\n"
          ]
        }
      ]
    },
    {
      "cell_type": "code",
      "source": [],
      "metadata": {
        "id": "tbtiOy5dtXWT"
      },
      "execution_count": null,
      "outputs": []
    }
  ]
}